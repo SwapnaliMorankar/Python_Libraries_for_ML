{
 "cells": [
  {
   "cell_type": "code",
   "execution_count": 3,
   "id": "174d6d90-f212-42f6-a8de-59decb33007e",
   "metadata": {},
   "outputs": [],
   "source": [
    "#Importing numpy library into notebook\n",
    "import numpy as np"
   ]
  },
  {
   "cell_type": "code",
   "execution_count": 4,
   "id": "59ec1dfe-da06-4598-b78d-57074b1e1d78",
   "metadata": {},
   "outputs": [],
   "source": [
    "#Creating array using inbuilt method\n",
    "arr = np.array([10,20,30,40])"
   ]
  },
  {
   "cell_type": "code",
   "execution_count": 5,
   "id": "461df02e-9246-4d5d-87b2-30af71712fda",
   "metadata": {},
   "outputs": [
    {
     "name": "stdout",
     "output_type": "stream",
     "text": [
      "[10 20 30 40]\n"
     ]
    }
   ],
   "source": [
    "print(arr)"
   ]
  },
  {
   "cell_type": "code",
   "execution_count": 6,
   "id": "77a7e554-83e8-4882-b357-7e97d71c06c0",
   "metadata": {},
   "outputs": [
    {
     "data": {
      "text/plain": [
       "array([10, 20, 30, 40])"
      ]
     },
     "execution_count": 6,
     "metadata": {},
     "output_type": "execute_result"
    }
   ],
   "source": [
    "#Printing array\n",
    "arr"
   ]
  },
  {
   "cell_type": "code",
   "execution_count": 7,
   "id": "ac6103e6-a8cb-4959-adbe-8f4672bfc4db",
   "metadata": {},
   "outputs": [
    {
     "data": {
      "text/plain": [
       "numpy.ndarray"
      ]
     },
     "execution_count": 7,
     "metadata": {},
     "output_type": "execute_result"
    }
   ],
   "source": [
    "type(arr)"
   ]
  },
  {
   "cell_type": "code",
   "execution_count": 8,
   "id": "995a2ebe-4339-4f4b-90e4-ee6e433174bf",
   "metadata": {},
   "outputs": [
    {
     "data": {
      "text/plain": [
       "array([[10, 20, 20, 30],\n",
       "       [30, 20, 40, 50]])"
      ]
     },
     "execution_count": 8,
     "metadata": {},
     "output_type": "execute_result"
    }
   ],
   "source": [
    "#Creating multi-dimensional array\n",
    "arr2 = np.array([[10,20,20,30], [30,20,40,50]])\n",
    "arr2"
   ]
  },
  {
   "cell_type": "code",
   "execution_count": 9,
   "id": "8c56a7fc-eba6-4295-b410-b9b747e691e0",
   "metadata": {},
   "outputs": [],
   "source": [
    "#Creating a array intialized to 0\n",
    "#1st parameter - no of rows\n",
    "#2nd Parameter - no of columns\n",
    "arr3 = np.zeros([3,4])"
   ]
  },
  {
   "cell_type": "code",
   "execution_count": 10,
   "id": "7196cdb5-5e2e-458e-9610-5ee042a535a0",
   "metadata": {},
   "outputs": [
    {
     "data": {
      "text/plain": [
       "array([[0., 0., 0., 0.],\n",
       "       [0., 0., 0., 0.],\n",
       "       [0., 0., 0., 0.]])"
      ]
     },
     "execution_count": 10,
     "metadata": {},
     "output_type": "execute_result"
    }
   ],
   "source": [
    "arr3"
   ]
  },
  {
   "cell_type": "code",
   "execution_count": 11,
   "id": "8f31a347-a28a-49ce-97a4-83fa386e07da",
   "metadata": {},
   "outputs": [
    {
     "data": {
      "text/plain": [
       "array([[20, 20, 20, 20],\n",
       "       [20, 20, 20, 20],\n",
       "       [20, 20, 20, 20],\n",
       "       [20, 20, 20, 20],\n",
       "       [20, 20, 20, 20]])"
      ]
     },
     "execution_count": 11,
     "metadata": {},
     "output_type": "execute_result"
    }
   ],
   "source": [
    "#Initializing array with a specific number\n",
    "#1st, 2nd parameters same\n",
    "#3rd parameter- number to be filled with\n",
    "arr4 = np.full([5,4], 20)\n",
    "arr4"
   ]
  },
  {
   "cell_type": "code",
   "execution_count": 13,
   "id": "a4409da2-4277-4a32-8c0b-260b7c3ddf47",
   "metadata": {},
   "outputs": [
    {
     "data": {
      "text/plain": [
       "array([10, 17, 24, 31, 38, 45, 52, 59])"
      ]
     },
     "execution_count": 13,
     "metadata": {},
     "output_type": "execute_result"
    }
   ],
   "source": [
    "#arange method - used to print numbers in a particular range\n",
    "arr5 = np.arange(10,60,7)\n",
    "arr5"
   ]
  },
  {
   "cell_type": "code",
   "execution_count": 14,
   "id": "5a8bad52-8233-4e98-9c04-01c5c94972a0",
   "metadata": {},
   "outputs": [
    {
     "data": {
      "text/plain": [
       "array([ 10,  20,  30,  40,  50,  60,  70,  80,  90, 100, 110, 120, 130,\n",
       "       140])"
      ]
     },
     "execution_count": 14,
     "metadata": {},
     "output_type": "execute_result"
    }
   ],
   "source": [
    "#1st, 2nd parameter - Range of numbers\n",
    "#3rd parameter - Difference we want between two numbers\n",
    "arr6 = np.arange(10,150,10)\n",
    "arr6"
   ]
  },
  {
   "cell_type": "code",
   "execution_count": 15,
   "id": "d7b1fc1c-d97d-4877-8c13-3172772f7c07",
   "metadata": {},
   "outputs": [
    {
     "data": {
      "text/plain": [
       "array([33, 24, 56, 82, 94,  5], dtype=int32)"
      ]
     },
     "execution_count": 15,
     "metadata": {},
     "output_type": "execute_result"
    }
   ],
   "source": [
    "#random method - used to print random numbers in a range\n",
    "arr7 = np.random.randint(1,100,6)\n",
    "arr7"
   ]
  },
  {
   "cell_type": "code",
   "execution_count": 16,
   "id": "aefcc608-dadf-4e7d-8202-ea4c255ac4d5",
   "metadata": {},
   "outputs": [
    {
     "data": {
      "text/plain": [
       "array([388, 458, 299, 347, 325, 313, 488, 275, 333, 215, 398, 486, 274,\n",
       "       254], dtype=int32)"
      ]
     },
     "execution_count": 16,
     "metadata": {},
     "output_type": "execute_result"
    }
   ],
   "source": [
    "#1st, 2nd parameter - range\n",
    "#3rd parameter - Quantity of random numbers we want from that range\n",
    "arr8 = np.random.randint(200,500,14)\n",
    "arr8"
   ]
  },
  {
   "cell_type": "code",
   "execution_count": 20,
   "id": "4e785219-1e3d-4f2c-a0e5-9d4265359dc4",
   "metadata": {},
   "outputs": [
    {
     "data": {
      "text/plain": [
       "(4, 5)"
      ]
     },
     "execution_count": 20,
     "metadata": {},
     "output_type": "execute_result"
    }
   ],
   "source": [
    "#checking the shape of an array\n",
    "arr4.shape"
   ]
  },
  {
   "cell_type": "code",
   "execution_count": 19,
   "id": "3d06dac2-2909-4b6f-b74d-2534114f7e89",
   "metadata": {},
   "outputs": [
    {
     "data": {
      "text/plain": [
       "(4, 5)"
      ]
     },
     "execution_count": 19,
     "metadata": {},
     "output_type": "execute_result"
    }
   ],
   "source": [
    "#changing the shape of an array\n",
    "arr4.shape = (4,5)\n",
    "arr4.shape"
   ]
  },
  {
   "cell_type": "code",
   "execution_count": 21,
   "id": "8ebf5d44-3f41-4a0e-b6fb-692d8427f967",
   "metadata": {},
   "outputs": [],
   "source": [
    "#Stacking of arrays"
   ]
  },
  {
   "cell_type": "code",
   "execution_count": 22,
   "id": "8531accf-80ae-4196-8819-e54634cc17ed",
   "metadata": {},
   "outputs": [
    {
     "data": {
      "text/plain": [
       "array([[10, 20, 30],\n",
       "       [40, 50, 60]])"
      ]
     },
     "execution_count": 22,
     "metadata": {},
     "output_type": "execute_result"
    }
   ],
   "source": [
    "#vstack - vertical stack\n",
    "n1 = np.array([10,20,30])\n",
    "n2 = np.array([40,50,60])\n",
    "np.vstack((n1,n2))"
   ]
  },
  {
   "cell_type": "code",
   "execution_count": 23,
   "id": "c0920103-a7a2-4434-8a41-0d11e0a4e018",
   "metadata": {},
   "outputs": [
    {
     "data": {
      "text/plain": [
       "array([10, 20, 30, 40, 50, 60])"
      ]
     },
     "execution_count": 23,
     "metadata": {},
     "output_type": "execute_result"
    }
   ],
   "source": [
    "#hstack - horizontal stack\n",
    "n3 = np.array([10,20,30])\n",
    "n4 = np.array([40,50,60])\n",
    "np.hstack((n3,n4))"
   ]
  },
  {
   "cell_type": "code",
   "execution_count": 24,
   "id": "c711fea9-65d1-4717-822f-9f4930e1639f",
   "metadata": {},
   "outputs": [
    {
     "data": {
      "text/plain": [
       "array([[10, 40],\n",
       "       [20, 50],\n",
       "       [30, 60]])"
      ]
     },
     "execution_count": 24,
     "metadata": {},
     "output_type": "execute_result"
    }
   ],
   "source": [
    "#column_stack - stacking one array in one column\n",
    "n5 = np.array([10,20,30])\n",
    "n6 = np.array([40,50,60])\n",
    "np.column_stack((n5,n6))"
   ]
  },
  {
   "cell_type": "code",
   "execution_count": 25,
   "id": "8d77b534-bdda-41bf-9916-0535f7b3a3c6",
   "metadata": {},
   "outputs": [
    {
     "data": {
      "text/plain": [
       "array([40, 50, 60, 10, 20, 30])"
      ]
     },
     "execution_count": 25,
     "metadata": {},
     "output_type": "execute_result"
    }
   ],
   "source": [
    "#hstack - horizontal stack\n",
    "n3 = np.array([10,20,30])\n",
    "n4 = np.array([40,50,60])\n",
    "np.hstack((n4,n3))"
   ]
  },
  {
   "cell_type": "code",
   "execution_count": 27,
   "id": "f0373e1e-0a9a-484f-9b3c-22e410e6f1ac",
   "metadata": {},
   "outputs": [
    {
     "data": {
      "text/plain": [
       "array([[40, 10],\n",
       "       [50, 20],\n",
       "       [60, 30]])"
      ]
     },
     "execution_count": 27,
     "metadata": {},
     "output_type": "execute_result"
    }
   ],
   "source": [
    "#column_stack - stacking one array in one column\n",
    "n5 = np.array([10,20,30])\n",
    "n6 = np.array([40,50,60])\n",
    "np.column_stack((n6,n5))"
   ]
  },
  {
   "cell_type": "code",
   "execution_count": 28,
   "id": "017b6537-63dc-48ef-b931-af05dedf1fc7",
   "metadata": {},
   "outputs": [],
   "source": [
    "#Intersection and Difference of Arrays"
   ]
  },
  {
   "cell_type": "code",
   "execution_count": 32,
   "id": "40b83bd5-7eab-4bc0-b421-40e21b4dfb6d",
   "metadata": {},
   "outputs": [
    {
     "data": {
      "text/plain": [
       "array([5, 6, 7, 8, 9])"
      ]
     },
     "execution_count": 32,
     "metadata": {},
     "output_type": "execute_result"
    }
   ],
   "source": [
    "#Intersect - common numbers\n",
    "new = np.array([1,2,3,4,5,6,7,8,9])\n",
    "old = np.array([5,6,7,8,9,0,11,13,14])\n",
    "np.intersect1d(new,old)"
   ]
  },
  {
   "cell_type": "code",
   "execution_count": 33,
   "id": "d9c1788d-0d08-4f12-ae18-dbf20788cd77",
   "metadata": {},
   "outputs": [
    {
     "data": {
      "text/plain": [
       "array([1, 2, 3, 4])"
      ]
     },
     "execution_count": 33,
     "metadata": {},
     "output_type": "execute_result"
    }
   ],
   "source": [
    "#Set Difference - Present in 1st array but not in 2nd\n",
    "np.setdiff1d(new,old)"
   ]
  },
  {
   "cell_type": "code",
   "execution_count": 34,
   "id": "3de25db0-21b6-46e5-a361-e812b1b4ae26",
   "metadata": {},
   "outputs": [
    {
     "data": {
      "text/plain": [
       "array([ 0, 11, 13, 14])"
      ]
     },
     "execution_count": 34,
     "metadata": {},
     "output_type": "execute_result"
    }
   ],
   "source": [
    "#Set Difference\n",
    "np.setdiff1d(old,new)"
   ]
  },
  {
   "cell_type": "code",
   "execution_count": null,
   "id": "0ee57ff4-d18d-4559-9e65-751a2bf7970b",
   "metadata": {},
   "outputs": [],
   "source": []
  }
 ],
 "metadata": {
  "kernelspec": {
   "display_name": "Python 3 (ipykernel)",
   "language": "python",
   "name": "python3"
  },
  "language_info": {
   "codemirror_mode": {
    "name": "ipython",
    "version": 3
   },
   "file_extension": ".py",
   "mimetype": "text/x-python",
   "name": "python",
   "nbconvert_exporter": "python",
   "pygments_lexer": "ipython3",
   "version": "3.12.4"
  }
 },
 "nbformat": 4,
 "nbformat_minor": 5
}
